{
 "cells": [
  {
   "cell_type": "code",
   "execution_count": 98,
   "metadata": {},
   "outputs": [
    {
     "name": "stdout",
     "output_type": "stream",
     "text": [
      "['1-012=0=2=--12', '11=', '1=--000111=01-0', '201-12=0211--', '110-=010-01--02', '11021==---22-1', '122001', '1--0', '2-=2', '22=02==01=0-2-011', '12-2-00-11', '20=0-2102=-01', '1102=', '122--0-112221', '11=00-2=201-22=-=', '10-02==210--=0', '2=220-02=1202', '1=--0-', '2-122==', '10-=00', '1=001-22==1', '1=121022122-1--0', '11-', '2=0-1-0-1', '1=-0221-==', '1-==-0--1012', '1--02=-01=020110=', '2-0212==1--=2=', '112', '1=-=1=0012201', '1==-', '1=02-2=012-=2--=--', '1=220-1=0--=1', '10-=', '1-=22-111=211', '11--==21==202', '20-', '1=-1=02=0=1===0-210', '1==-0=010', '1=-2=-=2-01-102102=', '110-==0=2=-==-2-10', '12200=--21-', '21-=1-=1-2-', '111-==2=2', '210=-0-02=-0=11', '10-1', '1-0=011', '20=10=001-', '2-0=0-=1121=---2-0', '22-1=2=0202', '21=2201020211=2', '1-110=', '21=22=0-=1==121', '1==-=01', '1-1=1012==1', '1-01===1=--21', '1==', '2-=', '200=202121--0122', '1-02', '1=21=-12-0-', '2-=10', '121=-20=0200=02==1', '101=2-2102-0-02=', '1===11', '22==0', '22-21==-2-1220=10', '1==2120--1-=', '1=11-2=-110100002200', '2211=2=-=-=01-01', '1==-010==-=2-=', '2=0=2', '11-100-21=', '11=1=-1=0', '2=2--1=2', '1-0==1=2-211=1', '1-2=-202011211', '10=-==-00-1==01', '1-=2122==', '112=-012', '12==-0=', '1122-0=0', '1=2=0', '2===-0=-0-0', '1212', '202', '1==1', '2111=1=000221-=-2=-', '210111=2=0-1==-', '1===00=', '22=22=-1-==2-==', '102--1=-1=222', '2=--=--0-2', '11-02=201101=2', '1=', '12--112-=0=', '10====0=220', '100020002=-0=02-1-', '101', '1=1-112-=', '2022-02', '22201212', '21221201010210-1-', '1-=1=-121-0-221-10', '1=212=01--10-==', '12-0=2121=21-2', '111-2-00', '1=20=202--', '2-==2=--2-2101002', '111-12=00', '1=0===2=', '12=-2020=1=2012', '2=', '1-02---', '221---2122212', '10=-20002=20-22', '2010-220', '12', '2=0-=221', '10011=0', '1-20--=1=1-=1', '1=1', '1=0202-2-1=20-2-', '101=--0-=-010-=', '1=12=--', '2=2111=', '1=0-2=2120002=0', '10-1=0---10=-20=010', '20-121===--=2-=111']\n",
      "37512839082437\n"
     ]
    }
   ],
   "source": [
    "import pandas as pd\r\n",
    "import math\r\n",
    "\r\n",
    "data = pd.read_csv(\"25A.csv\", header=None)\r\n",
    "words = data[0].values.tolist()\r\n",
    "print(words)\r\n",
    "print(findDecimalSum(words))\r\n",
    "p"
   ]
  },
  {
   "cell_type": "code",
   "execution_count": 91,
   "metadata": {},
   "outputs": [],
   "source": [
    "def processUnit(character):\r\n",
    "    old_number = character\r\n",
    "    new_number = int(old_number.replace(\"-\", \"-1\").replace(\"=\", \"-2\"))\r\n",
    "    return new_number\r\n",
    "\r\n",
    "def findDecimalSum(words):\r\n",
    "    placeNo = 0\r\n",
    "    runningTotal = 0\r\n",
    "\r\n",
    "    numbers = [[processUnit(letter) for letter in list(word)] for word in words] \r\n",
    "\r\n",
    "    while numbers:\r\n",
    "        unitSum = sum([number[-1] for number in numbers])*(5**placeNo)\r\n",
    "        numbers = [clean_number for clean_number in [number[:-1] for number in numbers] if clean_number != []]\r\n",
    "        runningTotal += unitSum\r\n",
    "        placeNo += 1\r\n",
    "\r\n",
    "    return runningTotal"
   ]
  },
  {
   "cell_type": "code",
   "execution_count": 92,
   "metadata": {},
   "outputs": [
    {
     "name": "stdout",
     "output_type": "stream",
     "text": [
      "2=-1=0\n"
     ]
    }
   ],
   "source": [
    "def convertToSnafu(number):\r\n",
    "    \r\n",
    "    noDigits = math.log(number, 5)\r\n",
    "    digitNo = round(noDigits)\r\n",
    "    hold = \"\"\r\n",
    "\r\n",
    "    while digitNo >= 0:\r\n",
    "\r\n",
    "        factor = 5**digitNo\r\n",
    "        nearestMultiple = factor * round(number / factor )\r\n",
    "        hold = hold + str(int(nearestMultiple/factor)).replace(\"-2\", \"=\").replace(\"-1\", \"-\")\r\n",
    "        \r\n",
    "        number = number - nearestMultiple\r\n",
    "        digitNo -= 1\r\n",
    "    \r\n",
    "    return hold\r\n"
   ]
  },
  {
   "cell_type": "code",
   "execution_count": null,
   "metadata": {},
   "outputs": [],
   "source": []
  }
 ],
 "metadata": {
  "kernelspec": {
   "display_name": "Python 3.8.3 64-bit",
   "name": "python383jvsc74a57bd02db524e06e9f5f4ffedc911c917cb75e12dbc923643829bf417064a77eb14d37"
  },
  "language_info": {
   "codemirror_mode": {
    "name": "ipython",
    "version": 3
   },
   "file_extension": ".py",
   "mimetype": "text/x-python",
   "name": "python",
   "nbconvert_exporter": "python",
   "pygments_lexer": "ipython3",
   "version": "3.8.3"
  },
  "metadata": {
   "interpreter": {
    "hash": "2db524e06e9f5f4ffedc911c917cb75e12dbc923643829bf417064a77eb14d37"
   }
  },
  "orig_nbformat": 2
 },
 "nbformat": 4,
 "nbformat_minor": 2
}