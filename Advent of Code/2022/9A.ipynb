{
 "cells": [
  {
   "cell_type": "code",
   "execution_count": 32,
   "metadata": {},
   "outputs": [],
   "source": [
    "import pandas as pd\r\n",
    "import numpy as np\r\n",
    "\r\n",
    "data = pd.read_csv(\"9A.csv\", header=None, delimiter=\" \")"
   ]
  },
  {
   "cell_type": "code",
   "execution_count": 33,
   "metadata": {},
   "outputs": [],
   "source": [
    "def Move_Piece(move_direction, pos):\r\n",
    "    \r\n",
    "    index = (1, 0)[(move_direction == \"U\") | (move_direction == \"D\")]\r\n",
    "    sign = (-1, 1)[(move_direction == \"U\") | (move_direction == \"R\")]\r\n",
    "\r\n",
    "    pos[index] += sign\r\n",
    "\r\n",
    "\r\n",
    "def Move_Tail(move_direction, head, tail):\r\n",
    "    \r\n",
    "    touching = Is_Touching(head, tail)\r\n",
    "    \r\n",
    "    if not touching:\r\n",
    "        if head[0] == tail[0] or head[1] == tail[1]:\r\n",
    "            Move_Piece(move_direction, tail)\r\n",
    "   \r\n",
    "        else:\r\n",
    "            Catch_Up(head, tail)\r\n",
    "\r\n",
    "\r\n",
    "def Is_Touching(head, tail):\r\n",
    "    touching =  abs(head[0] - tail[0]) < 2 and abs(head[1] - tail[1]) < 2\r\n",
    "    return touching\r\n",
    "\r\n",
    "\r\n",
    "def Catch_Up(head, tail):\r\n",
    "    head_above = np.sign(head[0] - tail[0])\r\n",
    "    head_right = np.sign(head[1] - tail[1])\r\n",
    "\r\n",
    "    tail[0] += head_above\r\n",
    "    tail[1] += head_right\r\n"
   ]
  },
  {
   "cell_type": "code",
   "execution_count": 34,
   "metadata": {},
   "outputs": [
    {
     "name": "stdout",
     "output_type": "stream",
     "text": [
      "5883\n"
     ]
    }
   ],
   "source": [
    "H = [0,0]\r\n",
    "T = [0,0]\r\n",
    "\r\n",
    "T_hist = []\r\n",
    "moves = data.values.tolist()\r\n",
    "\r\n",
    "for move in moves:\r\n",
    "    while move[1] > 0:\r\n",
    "        Move_Piece(move[0], H)\r\n",
    "        Move_Tail(move[0], H, T)\r\n",
    "        move[1] -= 1\r\n",
    "\r\n",
    "        T_hist.append(T.copy())\r\n",
    "\r\n",
    "visited_positions = [list(x) for x in set(tuple(x) for x in T_hist)]\r\n",
    "print(len(visited_positions))\r\n"
   ]
  }
 ],
 "metadata": {
  "kernelspec": {
   "display_name": "Python 3.8.3 64-bit",
   "name": "python383jvsc74a57bd02db524e06e9f5f4ffedc911c917cb75e12dbc923643829bf417064a77eb14d37"
  },
  "language_info": {
   "codemirror_mode": {
    "name": "ipython",
    "version": 3
   },
   "file_extension": ".py",
   "mimetype": "text/x-python",
   "name": "python",
   "nbconvert_exporter": "python",
   "pygments_lexer": "ipython3",
   "version": "3.8.3"
  },
  "metadata": {
   "interpreter": {
    "hash": "2db524e06e9f5f4ffedc911c917cb75e12dbc923643829bf417064a77eb14d37"
   }
  },
  "orig_nbformat": 2
 },
 "nbformat": 4,
 "nbformat_minor": 2
}